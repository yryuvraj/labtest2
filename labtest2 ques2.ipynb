{
 "cells": [
  {
   "cell_type": "code",
   "execution_count": 36,
   "id": "a2c247c6",
   "metadata": {},
   "outputs": [
    {
     "name": "stdout",
     "output_type": "stream",
     "text": [
      "li\n"
     ]
    }
   ],
   "source": [
    "import numpy as np \n",
    "\n",
    "s = np.array(['hye', 'why', 'lii', 'li'])\n",
    "\n",
    "def lol(s):\n",
    "    maxi = 0 \n",
    "    ans = ''\n",
    "\n",
    "    for i in range(0, len(s)):\n",
    "        maxi = max(maxi, len(s[i]))\n",
    "        ans = s[i]\n",
    "\n",
    "    mini = 1000000       \n",
    "    ans2 = ''\n",
    "    if(maxi < 5):\n",
    "        for i in range(0, len(s)):\n",
    "            mini = min(mini, len(s[i]))\n",
    "            ans2 = s[i]\n",
    "        print(ans2)\n",
    "    \n",
    "    else:\n",
    "        print(ans)\n",
    "        \n",
    "\n",
    "lol(s)\n"
   ]
  },
  {
   "cell_type": "code",
   "execution_count": null,
   "id": "52a72e10",
   "metadata": {},
   "outputs": [],
   "source": []
  }
 ],
 "metadata": {
  "kernelspec": {
   "display_name": "Python 3 (ipykernel)",
   "language": "python",
   "name": "python3"
  },
  "language_info": {
   "codemirror_mode": {
    "name": "ipython",
    "version": 3
   },
   "file_extension": ".py",
   "mimetype": "text/x-python",
   "name": "python",
   "nbconvert_exporter": "python",
   "pygments_lexer": "ipython3",
   "version": "3.11.5"
  }
 },
 "nbformat": 4,
 "nbformat_minor": 5
}
